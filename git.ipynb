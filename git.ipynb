{
 "cells": [
  {
   "cell_type": "code",
   "execution_count": 37,
   "metadata": {},
   "outputs": [],
   "source": [
    "from bs4 import BeautifulSoup\n",
    "import requeｓts\n",
    "import time\n",
    "import sqlite3"
   ]
  },
  {
   "cell_type": "code",
   "execution_count": 38,
   "metadata": {},
   "outputs": [],
   "source": [
    "# アクセスしたいWebサイトのURL\n",
    "url = 'https://www.data.jma.go.jp/obd/stats/etrn/view/nml_sfc_d.php?prec_no=44&block_no=47662&year=2024&month=1&day=01&view=p1'\n",
    "\n",
    "# Webサーバにリクエストを出す．レスポンスを変数に格納しておく\n",
    "r = requeｓts.get(url)\n",
    "r.encoding = 'utf-8'"
   ]
  },
  {
   "cell_type": "code",
   "execution_count": 39,
   "metadata": {},
   "outputs": [
    {
     "name": "stdout",
     "output_type": "stream",
     "text": [
      "<class 'bs4.BeautifulSoup'>\n"
     ]
    }
   ],
   "source": [
    "html_soup = BeautifulSoup(r.text, 'html.parser') # HTMLソースをBeautifulSoupオブジェクトに変換する（プログラムで扱いやすくするため）\n",
    "print(type(html_soup))"
   ]
  },
  {
   "cell_type": "code",
   "execution_count": 40,
   "metadata": {},
   "outputs": [
    {
     "name": "stdout",
     "output_type": "stream",
     "text": [
      "気象庁｜過去の気象データ検索\n"
     ]
    }
   ],
   "source": [
    "print(html_soup.find('title').string)"
   ]
  },
  {
   "cell_type": "code",
   "execution_count": 41,
   "metadata": {},
   "outputs": [
    {
     "name": "stdout",
     "output_type": "stream",
     "text": [
      "[<table class=\"data2_s\" id=\"tablefix1\">\n",
      "<tr class=\"mtx\"><th scope=\"row\">要素</th><th scope=\"col\">降水量<br/>(mm)</th><th scope=\"col\">平均気温<br/>(℃)</th><th scope=\"col\">最高気温<br/>(℃)</th><th scope=\"col\">最低気温<br/>(℃)</th><th scope=\"col\">日照時間<br/>(時間)</th><th scope=\"col\">全天日射量<br/>(MJ/㎡)</th><th scope=\"col\">平均雲量</th><th scope=\"col\">降雪の深さ合計<br/>(cm)</th><th scope=\"col\">最深積雪<br/>(cm)</th></tr>\n",
      "<tr class=\"mtx\"><th scope=\"row\">統計期間</th><td style=\"text-align:center\">1991～<br/>2020</td><td style=\"text-align:center\">1991～<br/>2020</td><td style=\"text-align:center\">1991～<br/>2020</td><td style=\"text-align:center\">1991～<br/>2020</td><td style=\"text-align:center\">1991～<br/>2020</td><td style=\"text-align:center\">1991～<br/>2020</td><td style=\"text-align:center\">1991～<br/>2020</td><td style=\"text-align:center\">1991～<br/>2020</td><td style=\"text-align:center\">1991～<br/>2020</td></tr>\n",
      "<tr class=\"mtx\"><th scope=\"row\">資料年数</th><td style=\"text-align:center\">30</td><td style=\"text-align:center\">30</td><td style=\"text-align:center\">30</td><td style=\"text-align:center\">30</td><td style=\"text-align:center\">30</td><td style=\"text-align:center\">30</td><td style=\"text-align:center\">30</td><td style=\"text-align:center\">30</td><td style=\"text-align:center\">30</td></tr>\n",
      "<tr class=\"mtx\" style=\"text-align:center\"><th scope=\"row\">1日</th><td style=\"text-align:right\">1.2</td><td style=\"text-align:right\">6.0</td><td style=\"text-align:right\">10.5</td><td style=\"text-align:right\">1.8</td><td style=\"text-align:right\">6.3</td><td style=\"text-align:right\">9.0</td><td style=\"text-align:right\">3.7</td><td style=\"text-align:right\">---</td><td style=\"text-align:right\">0</td></tr>\n",
      "<tr class=\"mtx\" style=\"text-align:center\"><th scope=\"row\">2日</th><td style=\"text-align:right\">1.2</td><td style=\"text-align:right\">5.9</td><td style=\"text-align:right\">10.4</td><td style=\"text-align:right\">1.8</td><td style=\"text-align:right\">6.4</td><td style=\"text-align:right\">9.0</td><td style=\"text-align:right\">3.7</td><td style=\"text-align:right\">---</td><td style=\"text-align:right\">---</td></tr>\n",
      "<tr class=\"mtx\" style=\"text-align:center\"><th scope=\"row\">3日</th><td style=\"text-align:right\">1.2</td><td style=\"text-align:right\">5.8</td><td style=\"text-align:right\">10.4</td><td style=\"text-align:right\">1.7</td><td style=\"text-align:right\">6.3</td><td style=\"text-align:right\">9.0</td><td style=\"text-align:right\">3.7</td><td style=\"text-align:right\">---</td><td style=\"text-align:right\">---</td></tr>\n",
      "<tr class=\"mtx\" style=\"text-align:center\"><th scope=\"row\">4日</th><td style=\"text-align:right\">1.2</td><td style=\"text-align:right\">5.8</td><td style=\"text-align:right\">10.3</td><td style=\"text-align:right\">1.6</td><td style=\"text-align:right\">6.3</td><td style=\"text-align:right\">9.1</td><td style=\"text-align:right\">3.8</td><td style=\"text-align:right\">---</td><td style=\"text-align:right\">---</td></tr>\n",
      "<tr class=\"mtx\" style=\"text-align:center\"><th scope=\"row\">5日</th><td style=\"text-align:right\">1.3</td><td style=\"text-align:right\">5.7</td><td style=\"text-align:right\">10.2</td><td style=\"text-align:right\">1.6</td><td style=\"text-align:right\">6.3</td><td style=\"text-align:right\">9.1</td><td style=\"text-align:right\">3.8</td><td style=\"text-align:right\">---</td><td style=\"text-align:right\">---</td></tr>\n",
      "<tr class=\"mtx\" style=\"text-align:center\"><th scope=\"row\">6日</th><td style=\"text-align:right\">1.3</td><td style=\"text-align:right\">5.7</td><td style=\"text-align:right\">10.2</td><td style=\"text-align:right\">1.5</td><td style=\"text-align:right\">6.3</td><td style=\"text-align:right\">9.1</td><td style=\"text-align:right\">3.9</td><td style=\"text-align:right\">---</td><td style=\"text-align:right\">---</td></tr>\n",
      "<tr class=\"mtx\" style=\"text-align:center\"><th scope=\"row\">7日</th><td style=\"text-align:right\">1.4</td><td style=\"text-align:right\">5.6</td><td style=\"text-align:right\">10.1</td><td style=\"text-align:right\">1.5</td><td style=\"text-align:right\">6.3</td><td style=\"text-align:right\">9.1</td><td style=\"text-align:right\">3.9</td><td style=\"text-align:right\">---</td><td style=\"text-align:right\">0</td></tr>\n",
      "<tr class=\"mtx\" style=\"text-align:center\"><th scope=\"row\">8日</th><td style=\"text-align:right\">1.5</td><td style=\"text-align:right\">5.6</td><td style=\"text-align:right\">10.0</td><td style=\"text-align:right\">1.5</td><td style=\"text-align:right\">6.3</td><td style=\"text-align:right\">9.1</td><td style=\"text-align:right\">4.0</td><td style=\"text-align:right\">0</td><td style=\"text-align:right\">0</td></tr>\n",
      "<tr class=\"mtx\" style=\"text-align:center\"><th scope=\"row\">9日</th><td style=\"text-align:right\">1.6</td><td style=\"text-align:right\">5.5</td><td style=\"text-align:right\">10.0</td><td style=\"text-align:right\">1.4</td><td style=\"text-align:right\">6.2</td><td style=\"text-align:right\">9.1</td><td style=\"text-align:right\">4.1</td><td style=\"text-align:right\">0</td><td style=\"text-align:right\">0</td></tr>\n",
      "<tr class=\"mtx\" style=\"text-align:center\"><th scope=\"row\">10日</th><td style=\"text-align:right\">1.8</td><td style=\"text-align:right\">5.5</td><td style=\"text-align:right\">9.9</td><td style=\"text-align:right\">1.4</td><td style=\"text-align:right\">6.2</td><td style=\"text-align:right\">9.1</td><td style=\"text-align:right\">4.1</td><td style=\"text-align:right\">0</td><td style=\"text-align:right\">0</td></tr>\n",
      "<tr class=\"mtx\" style=\"text-align:center\"><th scope=\"row\">11日</th><td style=\"text-align:right\">1.9</td><td style=\"text-align:right\">5.5</td><td style=\"text-align:right\">9.8</td><td style=\"text-align:right\">1.3</td><td style=\"text-align:right\">6.2</td><td style=\"text-align:right\">9.1</td><td style=\"text-align:right\">4.2</td><td style=\"text-align:right\">---</td><td style=\"text-align:right\">0</td></tr>\n",
      "<tr class=\"mtx\" style=\"text-align:center\"><th scope=\"row\">12日</th><td style=\"text-align:right\">2.0</td><td style=\"text-align:right\">5.4</td><td style=\"text-align:right\">9.8</td><td style=\"text-align:right\">1.3</td><td style=\"text-align:right\">6.1</td><td style=\"text-align:right\">9.0</td><td style=\"text-align:right\">4.3</td><td style=\"text-align:right\">0</td><td style=\"text-align:right\">0</td></tr>\n",
      "<tr class=\"mtx\" style=\"text-align:center\"><th scope=\"row\">13日</th><td style=\"text-align:right\">2.1</td><td style=\"text-align:right\">5.4</td><td style=\"text-align:right\">9.7</td><td style=\"text-align:right\">1.3</td><td style=\"text-align:right\">6.1</td><td style=\"text-align:right\">9.0</td><td style=\"text-align:right\">4.4</td><td style=\"text-align:right\">0</td><td style=\"text-align:right\">0</td></tr>\n",
      "<tr class=\"mtx\" style=\"text-align:center\"><th scope=\"row\">14日</th><td style=\"text-align:right\">2.1</td><td style=\"text-align:right\">5.3</td><td style=\"text-align:right\">9.7</td><td style=\"text-align:right\">1.3</td><td style=\"text-align:right\">6.0</td><td style=\"text-align:right\">9.0</td><td style=\"text-align:right\">4.5</td><td style=\"text-align:right\">0</td><td style=\"text-align:right\">0</td></tr>\n",
      "<tr class=\"mtx\" style=\"text-align:center\"><th scope=\"row\">15日</th><td style=\"text-align:right\">2.2</td><td style=\"text-align:right\">5.3</td><td style=\"text-align:right\">9.6</td><td style=\"text-align:right\">1.2</td><td style=\"text-align:right\">6.0</td><td style=\"text-align:right\">9.0</td><td style=\"text-align:right\">4.6</td><td style=\"text-align:right\">0</td><td style=\"text-align:right\">0</td></tr>\n",
      "<tr class=\"mtx\" style=\"text-align:center\"><th scope=\"row\">16日</th><td style=\"text-align:right\">2.2</td><td style=\"text-align:right\">5.2</td><td style=\"text-align:right\">9.5</td><td style=\"text-align:right\">1.2</td><td style=\"text-align:right\">6.0</td><td style=\"text-align:right\">9.0</td><td style=\"text-align:right\">4.7</td><td style=\"text-align:right\">---</td><td style=\"text-align:right\">0</td></tr>\n",
      "<tr class=\"mtx\" style=\"text-align:center\"><th scope=\"row\">17日</th><td style=\"text-align:right\">2.3</td><td style=\"text-align:right\">5.2</td><td style=\"text-align:right\">9.5</td><td style=\"text-align:right\">1.2</td><td style=\"text-align:right\">6.0</td><td style=\"text-align:right\">9.0</td><td style=\"text-align:right\">4.7</td><td style=\"text-align:right\">0</td><td style=\"text-align:right\">0</td></tr>\n",
      "<tr class=\"mtx\" style=\"text-align:center\"><th scope=\"row\">18日</th><td style=\"text-align:right\">2.3</td><td style=\"text-align:right\">5.2</td><td style=\"text-align:right\">9.5</td><td style=\"text-align:right\">1.1</td><td style=\"text-align:right\">5.9</td><td style=\"text-align:right\">9.1</td><td style=\"text-align:right\">4.8</td><td style=\"text-align:right\">0</td><td style=\"text-align:right\">0</td></tr>\n",
      "<tr class=\"mtx\" style=\"text-align:center\"><th scope=\"row\">19日</th><td style=\"text-align:right\">2.3</td><td style=\"text-align:right\">5.2</td><td style=\"text-align:right\">9.5</td><td style=\"text-align:right\">1.1</td><td style=\"text-align:right\">5.9</td><td style=\"text-align:right\">9.1</td><td style=\"text-align:right\">4.8</td><td style=\"text-align:right\">---</td><td style=\"text-align:right\">0</td></tr>\n",
      "<tr class=\"mtx\" style=\"text-align:center\"><th scope=\"row\">20日</th><td style=\"text-align:right\">2.3</td><td style=\"text-align:right\">5.2</td><td style=\"text-align:right\">9.5</td><td style=\"text-align:right\">1.1</td><td style=\"text-align:right\">5.9</td><td style=\"text-align:right\">9.2</td><td style=\"text-align:right\">4.8</td><td style=\"text-align:right\">0</td><td style=\"text-align:right\">0</td></tr>\n",
      "<tr class=\"mtx\" style=\"text-align:center\"><th scope=\"row\">21日</th><td style=\"text-align:right\">2.3</td><td style=\"text-align:right\">5.1</td><td style=\"text-align:right\">9.5</td><td style=\"text-align:right\">1.1</td><td style=\"text-align:right\">5.9</td><td style=\"text-align:right\">9.3</td><td style=\"text-align:right\">4.8</td><td style=\"text-align:right\">0</td><td style=\"text-align:right\">0</td></tr>\n",
      "<tr class=\"mtx\" style=\"text-align:center\"><th scope=\"row\">22日</th><td style=\"text-align:right\">2.3</td><td style=\"text-align:right\">5.1</td><td style=\"text-align:right\">9.5</td><td style=\"text-align:right\">1.1</td><td style=\"text-align:right\">6.0</td><td style=\"text-align:right\">9.4</td><td style=\"text-align:right\">4.8</td><td style=\"text-align:right\">0</td><td style=\"text-align:right\">0</td></tr>\n",
      "<tr class=\"mtx\" style=\"text-align:center\"><th scope=\"row\">23日</th><td style=\"text-align:right\">2.3</td><td style=\"text-align:right\">5.2</td><td style=\"text-align:right\">9.5</td><td style=\"text-align:right\">1.1</td><td style=\"text-align:right\">6.0</td><td style=\"text-align:right\">9.5</td><td style=\"text-align:right\">4.7</td><td style=\"text-align:right\">0</td><td style=\"text-align:right\">0</td></tr>\n",
      "<tr class=\"mtx\" style=\"text-align:center\"><th scope=\"row\">24日</th><td style=\"text-align:right\">2.3</td><td style=\"text-align:right\">5.2</td><td style=\"text-align:right\">9.6</td><td style=\"text-align:right\">1.1</td><td style=\"text-align:right\">6.1</td><td style=\"text-align:right\">9.6</td><td style=\"text-align:right\">4.7</td><td style=\"text-align:right\">---</td><td style=\"text-align:right\">0</td></tr>\n",
      "<tr class=\"mtx\" style=\"text-align:center\"><th scope=\"row\">25日</th><td style=\"text-align:right\">2.3</td><td style=\"text-align:right\">5.2</td><td style=\"text-align:right\">9.6</td><td style=\"text-align:right\">1.1</td><td style=\"text-align:right\">6.1</td><td style=\"text-align:right\">9.8</td><td style=\"text-align:right\">4.6</td><td style=\"text-align:right\">---</td><td style=\"text-align:right\">0</td></tr>\n",
      "<tr class=\"mtx\" style=\"text-align:center\"><th scope=\"row\">26日</th><td style=\"text-align:right\">2.3</td><td style=\"text-align:right\">5.2</td><td style=\"text-align:right\">9.7</td><td style=\"text-align:right\">1.1</td><td style=\"text-align:right\">6.2</td><td style=\"text-align:right\">9.9</td><td style=\"text-align:right\">4.6</td><td style=\"text-align:right\">---</td><td style=\"text-align:right\">0</td></tr>\n",
      "<tr class=\"mtx\" style=\"text-align:center\"><th scope=\"row\">27日</th><td style=\"text-align:right\">2.3</td><td style=\"text-align:right\">5.2</td><td style=\"text-align:right\">9.7</td><td style=\"text-align:right\">1.1</td><td style=\"text-align:right\">6.3</td><td style=\"text-align:right\">10.1</td><td style=\"text-align:right\">4.5</td><td style=\"text-align:right\">0</td><td style=\"text-align:right\">0</td></tr>\n",
      "<tr class=\"mtx\" style=\"text-align:center\"><th scope=\"row\">28日</th><td style=\"text-align:right\">2.2</td><td style=\"text-align:right\">5.3</td><td style=\"text-align:right\">9.8</td><td style=\"text-align:right\">1.1</td><td style=\"text-align:right\">6.3</td><td style=\"text-align:right\">10.2</td><td style=\"text-align:right\">4.5</td><td style=\"text-align:right\">0</td><td style=\"text-align:right\">0</td></tr>\n",
      "<tr class=\"mtx\" style=\"text-align:center\"><th scope=\"row\">29日</th><td style=\"text-align:right\">2.2</td><td style=\"text-align:right\">5.3</td><td style=\"text-align:right\">9.8</td><td style=\"text-align:right\">1.2</td><td style=\"text-align:right\">6.4</td><td style=\"text-align:right\">10.3</td><td style=\"text-align:right\">4.5</td><td style=\"text-align:right\">0</td><td style=\"text-align:right\">0</td></tr>\n",
      "<tr class=\"mtx\" style=\"text-align:center\"><th scope=\"row\">30日</th><td style=\"text-align:right\">2.1</td><td style=\"text-align:right\">5.3</td><td style=\"text-align:right\">9.9</td><td style=\"text-align:right\">1.2</td><td style=\"text-align:right\">6.4</td><td style=\"text-align:right\">10.4</td><td style=\"text-align:right\">4.5</td><td style=\"text-align:right\">0</td><td style=\"text-align:right\">0</td></tr>\n",
      "<tr class=\"mtx\" style=\"text-align:center\"><th scope=\"row\">31日</th><td style=\"text-align:right\">2.0</td><td style=\"text-align:right\">5.4</td><td style=\"text-align:right\">9.9</td><td style=\"text-align:right\">1.3</td><td style=\"text-align:right\">6.4</td><td style=\"text-align:right\">10.5</td><td style=\"text-align:right\">4.5</td><td style=\"text-align:right\">0</td><td style=\"text-align:right\">0</td></tr>\n",
      "</table>]\n"
     ]
    }
   ],
   "source": [
    "# タグを検索し、条件に一致するものを取得\n",
    "tag1 = html_soup.find_all('table', class_='data2_s')\n",
    "# 結果を表示\n",
    "print(tag1)"
   ]
  },
  {
   "cell_type": "code",
   "execution_count": 42,
   "metadata": {},
   "outputs": [],
   "source": [
    "# タグを検索し、条件に一致するものを取得\n",
    "tag2 = html_soup.find_all('td', class_='data_0_0')\n",
    "\n",
    "# テキストを取得してリストに追加するリスト内包表記を使用\n",
    "data1 = [tag.string for tag in tag2]"
   ]
  },
  {
   "cell_type": "code",
   "execution_count": 43,
   "metadata": {},
   "outputs": [
    {
     "data": {
      "text/plain": [
       "[]"
      ]
     },
     "execution_count": 43,
     "metadata": {},
     "output_type": "execute_result"
    }
   ],
   "source": [
    "data1"
   ]
  }
 ],
 "metadata": {
  "kernelspec": {
   "display_name": "Python 3",
   "language": "python",
   "name": "python3"
  },
  "language_info": {
   "codemirror_mode": {
    "name": "ipython",
    "version": 3
   },
   "file_extension": ".py",
   "mimetype": "text/x-python",
   "name": "python",
   "nbconvert_exporter": "python",
   "pygments_lexer": "ipython3",
   "version": "3.9.6"
  }
 },
 "nbformat": 4,
 "nbformat_minor": 2
}
