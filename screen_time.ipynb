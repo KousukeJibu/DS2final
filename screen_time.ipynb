{
 "cells": [
  {
   "cell_type": "code",
   "execution_count": 1,
   "metadata": {},
   "outputs": [],
   "source": [
    "import sqlite3"
   ]
  },
  {
   "cell_type": "code",
   "execution_count": 2,
   "metadata": {},
   "outputs": [
    {
     "data": {
      "text/plain": [
       "'/Users/kosuke/DS2final'"
      ]
     },
     "execution_count": 2,
     "metadata": {},
     "output_type": "execute_result"
    }
   ],
   "source": [
    "pwd"
   ]
  },
  {
   "cell_type": "code",
   "execution_count": 3,
   "metadata": {},
   "outputs": [],
   "source": [
    "path = '/Users/kosuke/DS2final'\n",
    "db_name = 'screen.sqlite'\n",
    "#DBに接続する（指定したDBファイルが存在しない場合は、新規に作成される）\n",
    "con = sqlite3.connect(path + db_name)\n",
    "#DBへの接続を閉じる\n",
    "con.close()"
   ]
  },
  {
   "cell_type": "code",
   "execution_count": 8,
   "metadata": {},
   "outputs": [],
   "source": [
    "con = sqlite3.connect(path + db_name)\n",
    "#print(type(con))\n",
    "\n",
    "#sqlを実行するためのオブジェクトを取得\n",
    "cur = con.cursor()\n",
    "\n",
    "#テーブルを作成するsql\n",
    "sql_create_table ='CREATE TABLE screen(date real, entertainment real, game real, SNS real, other real);'\n",
    "\n",
    "#sqlを実行する\n",
    "cur.execute(sql_create_table)\n",
    "\n",
    "#必要があればコミットする（データ変更などがあった場合）\n",
    "\n",
    "con.close()"
   ]
  },
  {
   "cell_type": "code",
   "execution_count": 11,
   "metadata": {},
   "outputs": [],
   "source": [
    "con = sqlite3.connect(path + db_name)\n",
    "#print(type(con))\n",
    "\n",
    "#sqlを実行するためのオブジェクトを取得\n",
    "cur = con.cursor()\n",
    "\n",
    "#sqlを用意する\n",
    "sql_insert_many = \"INSERT INTO screen VALUES (?, ?, ?, ?, ?);\"\n",
    "\n",
    "#データをリストで用意する\n",
    "#エンターテイメント, ゲーム, SNS, その他\n",
    "screen_list = [\n",
    "    (1,242,16,63,4),\n",
    "    (2,269,2,84,130),\n",
    "    (3,585,11,68,12),\n",
    "    (4,231,3,37,8),\n",
    "    (5,211,14,15,2),\n",
    "    (6,403,4,33,10),\n",
    "    (7,81,6,12,1),\n",
    "    (8,575,45,36,70),\n",
    "    (9,323,59,22,7),\n",
    "    (10,32,13,39,17),\n",
    "    (11,114,10,16,20),\n",
    "    (12,7,60,45,15),\n",
    "    (13,55,38,88,9),\n",
    "    (14,160,217,57,13),\n",
    "   (15,205,143,136,40),\n",
    "]\n",
    "\n",
    "#sqlを実行する\n",
    "cur.executemany(sql_insert_many, screen_list)\n",
    "\n",
    "#コミット処理(データ操作を反映させる)\n",
    "con.commit()\n",
    "\n",
    "con.close()"
   ]
  },
  {
   "cell_type": "code",
   "execution_count": 12,
   "metadata": {},
   "outputs": [
    {
     "name": "stdout",
     "output_type": "stream",
     "text": [
      "(1, 242.0, 16.0, 63.0, 4.0)\n",
      "(2, 269.0, 2.0, 84.0, 130.0)\n",
      "(3, 585.0, 11.0, 68.0, 12.0)\n",
      "(4, 231.0, 3.0, 37.0, 8.0)\n",
      "(5, 211.0, 14.0, 15.0, 2.0)\n",
      "(6, 403.0, 4.0, 33.0, 10.0)\n",
      "(7, 81.0, 6.0, 12.0, 1.0)\n",
      "(8, 575.0, 45.0, 36.0, 70.0)\n",
      "(9, 323.0, 59.0, 22.0, 7.0)\n",
      "(10, 32.0, 13.0, 39.0, 17.0)\n",
      "(11, 114.0, 10.0, 16.0, 20.0)\n",
      "(12, 7.0, 60.0, 45.0, 15.0)\n",
      "(13, 55.0, 38.0, 88.0, 9.0)\n",
      "(14, 160.0, 217.0, 57.0, 13.0)\n",
      "(15, 205.0, 143.0, 136.0, 40.0)\n"
     ]
    }
   ],
   "source": [
    "con = sqlite3.connect(path + db_name)\n",
    "#print(type(con))\n",
    "\n",
    "#sqlを実行するためのオブジェクトを取得\n",
    "cur = con.cursor()\n",
    "\n",
    "#sqlを用意する\n",
    "sql_select = 'SELECT * FROM screen;'\n",
    "\n",
    "#sqlを実行する\n",
    "cur.execute(sql_select)\n",
    "\n",
    "for r in cur:\n",
    "  print(r)\n",
    "\n",
    "con.close()"
   ]
  }
 ],
 "metadata": {
  "kernelspec": {
   "display_name": "Python 3",
   "language": "python",
   "name": "python3"
  },
  "language_info": {
   "codemirror_mode": {
    "name": "ipython",
    "version": 3
   },
   "file_extension": ".py",
   "mimetype": "text/x-python",
   "name": "python",
   "nbconvert_exporter": "python",
   "pygments_lexer": "ipython3",
   "version": "3.9.6"
  }
 },
 "nbformat": 4,
 "nbformat_minor": 2
}
